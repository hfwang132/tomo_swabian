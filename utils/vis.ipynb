{
 "cells": [
  {
   "cell_type": "code",
   "execution_count": 1,
   "metadata": {},
   "outputs": [],
   "source": [
    "import plotly.graph_objects as go\n",
    "\n",
    "import time\n",
    "import datetime\n",
    "import sys\n",
    "import numpy as np\n",
    "from TimeTagger import Coincidences, Counter, Correlation, createTimeTagger, freeTimeTagger, Countrate, CoincidenceTimestamp, Coincidence\n",
    "import matplotlib.pyplot as plt\n",
    "from pylablib.devices import Thorlabs\n",
    "\n",
    "# 1) init stage\n",
    "\n",
    "stage = Thorlabs.KinesisMotor(\"83855348\")\n",
    "# stage.home()\n",
    "# stage.wait_for_stop()"
   ]
  },
  {
   "cell_type": "code",
   "execution_count": 5,
   "metadata": {},
   "outputs": [],
   "source": [
    "stage.home()\n",
    "stage.wait_for_stop()\n",
    "\n",
    "# -14077 < x < 881664\n",
    "# -0.407 < x < 25.515"
   ]
  },
  {
   "cell_type": "code",
   "execution_count": 12,
   "metadata": {},
   "outputs": [],
   "source": [
    "stage.move_to(0)\n",
    "stage.wait_for_stop()"
   ]
  },
  {
   "cell_type": "code",
   "execution_count": 13,
   "metadata": {},
   "outputs": [
    {
     "data": {
      "text/plain": [
       "0"
      ]
     },
     "execution_count": 13,
     "metadata": {},
     "output_type": "execute_result"
    }
   ],
   "source": [
    "stage.get_position()"
   ]
  },
  {
   "cell_type": "markdown",
   "metadata": {},
   "source": [
    "# Global Scan"
   ]
  },
  {
   "cell_type": "code",
   "execution_count": 29,
   "metadata": {},
   "outputs": [
    {
     "name": "stdout",
     "output_type": "stream",
     "text": [
      "Start time : 25.04.24_19.29.49\n",
      "Estimated time :  12 min\n",
      "Estimated finish time : 25.04.24_19.41.49\n",
      "Moving to position 10.009 mm...\n",
      "Current position: 10.009 mm\n",
      "Performing coincidence counting...\n",
      "Time remaining:    1 s\n",
      "\n",
      "counts:  129\n",
      "Moving to position 10.029 mm...\n",
      "Current position: 10.029 mm\n",
      "Performing coincidence counting...\n",
      "Time remaining:    1 s\n",
      "\n",
      "counts:  155\n",
      "Moving to position 10.049 mm...\n",
      "Current position: 10.049 mm\n",
      "Performing coincidence counting...\n",
      "Time remaining:    1 s\n",
      "\n",
      "counts:  135\n",
      "Moving to position 10.069 mm...\n",
      "Current position: 10.069 mm\n",
      "Performing coincidence counting...\n",
      "Time remaining:    1 s\n",
      "\n",
      "counts:  139\n",
      "Moving to position 10.089 mm...\n",
      "Current position: 10.089 mm\n",
      "Performing coincidence counting...\n",
      "Time remaining:    1 s\n",
      "\n",
      "counts:  163\n",
      "Moving to position 10.109 mm...\n",
      "Current position: 10.109 mm\n",
      "Performing coincidence counting...\n",
      "Time remaining:    1 s\n",
      "\n",
      "counts:  155\n",
      "Moving to position 10.129 mm...\n",
      "Current position: 10.129 mm\n",
      "Performing coincidence counting...\n",
      "Time remaining:    1 s\n",
      "\n",
      "counts:  166\n",
      "Moving to position 10.149 mm...\n",
      "Current position: 10.149 mm\n",
      "Performing coincidence counting...\n",
      "Time remaining:    1 s\n",
      "\n",
      "counts:  159\n",
      "Moving to position 10.169 mm...\n",
      "Current position: 10.169 mm\n",
      "Performing coincidence counting...\n",
      "Time remaining:    1 s\n",
      "\n",
      "counts:  149\n",
      "Moving to position 10.189 mm...\n",
      "Current position: 10.189 mm\n",
      "Performing coincidence counting...\n",
      "Time remaining:    1 s\n",
      "\n",
      "counts:  140\n",
      "Moving to position 10.209 mm...\n",
      "Current position: 10.209 mm\n",
      "Performing coincidence counting...\n",
      "Time remaining:    1 s\n",
      "\n",
      "counts:  143\n",
      "Moving to position 10.229 mm...\n",
      "Current position: 10.229 mm\n",
      "Performing coincidence counting...\n",
      "Time remaining:    1 s\n",
      "\n",
      "counts:  181\n",
      "Moving to position 10.249 mm...\n",
      "Current position: 10.249 mm\n",
      "Performing coincidence counting...\n",
      "Time remaining:    1 s\n",
      "\n",
      "counts:  147\n"
     ]
    }
   ],
   "source": [
    "# 2) init tagger\n",
    "\n",
    "tagger = createTimeTagger()\n",
    "for j in range(1, 17):\n",
    "    tagger.setTriggerLevel(j, 1.0)\n",
    "\n",
    "tagger.setInputDelay(2, -3750)\n",
    "tagger.setInputDelay(3, -4775)\n",
    "tagger.setInputDelay(4, -10335)\n",
    "tagger.setInputDelay(5, -10900)\n",
    "\n",
    "coin = Coincidence(\n",
    "                tagger, [1, 2, 3, 4], coincidenceWindow=3000, timestamp=CoincidenceTimestamp.Average\n",
    "                )\n",
    "\n",
    "countrate = Countrate(tagger=tagger, channels=coin.getChannels())\n",
    "\n",
    "# 3) measure\n",
    "\n",
    "t = datetime.datetime.now()\n",
    "start_time = t.strftime(\"%y.%m.%d_%H.%M.%S\")\n",
    "filename = f\"data_vis/vis_{start_time}.txt\"\n",
    "f = open(filename, \"w\")\n",
    "\n",
    "step = 0.02\n",
    "sec = 60\n",
    "counts = []\n",
    "\n",
    "center = 350000 # 118870\n",
    "ran = round(0.12 * 34555)\n",
    "range_max = center + ran\n",
    "range_min = center - ran\n",
    "\n",
    "# range_max = 881664\n",
    "# range_min = -14077\n",
    "\n",
    "estimated_time = ( sec * (range_max - range_min) / (step * 34555) ) / 60\n",
    "\n",
    "estimated_finish_time = (t + datetime.timedelta(minutes=estimated_time)).strftime(\"%y.%m.%d_%H.%M.%S\")\n",
    "\n",
    "print(f\"Start time : {start_time}\")\n",
    "print(f\"Estimated time : {estimated_time : .0f} min\")\n",
    "print(f\"Estimated finish time : {estimated_finish_time}\")\n",
    "\n",
    "try:\n",
    "    for pos in range(range_min, range_max, int(step*34555)):\n",
    "        print(f\"Moving to position {pos/34555:.3f} mm...\")\n",
    "        stage.move_to(pos)\n",
    "        stage.wait_for_stop()\n",
    "        cur_pos = stage.get_position()\n",
    "        print(f\"Current position: {cur_pos/34555:.3f} mm\")\n",
    "        print(\"Performing coincidence counting...\")\n",
    "        countrate.startFor(int(sec*1e12))\n",
    "        for i in range(0, sec):\n",
    "            sys.stdout.write(\"\\r\")\n",
    "            sys.stdout.write(f\"Time remaining: {(sec - i):4d} s\")\n",
    "            sys.stdout.flush()\n",
    "            time.sleep(1)\n",
    "        print(\"\\n\")\n",
    "        countrate.waitUntilFinished()\n",
    "        count = countrate.getCountsTotal()[0]\n",
    "        print(\"counts: \", count)\n",
    "        pos_count = [cur_pos] + [count]\n",
    "        counts.append(count)\n",
    "\n",
    "        f.write(\" \".join(map(str, pos_count)))\n",
    "        f.write(\"\\n\")\n",
    "        f.flush()\n",
    "except Exception as e:\n",
    "    raise e\n",
    "finally:\n",
    "    f.close()\n",
    "    freeTimeTagger(tagger=tagger)\n",
    "    print(\"Finished!\")"
   ]
  },
  {
   "cell_type": "code",
   "execution_count": 30,
   "metadata": {},
   "outputs": [
    {
     "data": {
      "image/png": "[encoded data removed]",
      "text/plain": [
       "<Figure size 432x288 with 1 Axes>"
      ]
     },
     "metadata": {
      "needs_background": "light"
     },
     "output_type": "display_data"
    }
   ],
   "source": [
    "x = np.arange(range_min, range_max, int(step*34555))\n",
    "plt.plot(x, counts, \".-\")\n",
    "# plt.savefig(filename[:-4] + '.jpg')\n",
    "plt.show()"
   ]
  },
  {
   "cell_type": "code",
   "execution_count": 27,
   "metadata": {},
   "outputs": [
    {
     "data": {
      "application/vnd.plotly.v1+json": {
       "config": {
        "plotlyServerURL": "https://plot.ly"
       },
       "data": [
        {
         "mode": "markers+lines",
         "type": "scatter",
         "x": [
          9.928780205469542,
          9.938764288814932,
          9.948748372160324,
          9.958732455505716,
          9.968716538851107,
          9.978700622196499,
          9.988684705541889,
          9.998668788887281,
          10.008652872232673,
          10.018636955578064,
          10.028621038923456,
          10.038605122268846,
          10.048589205614238,
          10.05857328895963,
          10.06855737230502,
          10.078541455650413,
          10.088525538995803,
          10.098509622341195,
          10.108493705686586,
          10.118477789031978,
          10.12846187237737,
          10.13844595572276,
          10.148430039068153,
          10.158414122413543,
          10.168398205758935,
          10.178382289104327,
          10.188366372449718,
          10.19835045579511,
          10.2083345391405,
          10.218318622485892,
          10.228302705831284,
          10.238286789176675,
          10.248270872522067,
          10.258254955867457,
          10.26823903921285,
          10.27822312255824,
          10.288207205903632,
          10.298191289249024,
          10.308175372594414,
          10.318159455939806,
          10.328143539285197
         ],
         "y": [
          288,
          282,
          289,
          277,
          275,
          283,
          296,
          283,
          270,
          270,
          264,
          272,
          274,
          268,
          261,
          247,
          239,
          197,
          240,
          177,
          185,
          183,
          163,
          195,
          214,
          253,
          267,
          271,
          264,
          263,
          285,
          281,
          281,
          261,
          284,
          290,
          273,
          300,
          274,
          290,
          278
         ]
        }
       ],
       "layout": {
        "template": {
         "data": {
          "bar": [
           {
            "error_x": {
             "color": "#2a3f5f"
            },
            "error_y": {
             "color": "#2a3f5f"
            },
            "marker": {
             "line": {
              "color": "#E5ECF6",
              "width": 0.5
             },
             "pattern": {
              "fillmode": "overlay",
              "size": 10,
              "solidity": 0.2
             }
            },
            "type": "bar"
           }
          ],
          "barpolar": [
           {
            "marker": {
             "line": {
              "color": "#E5ECF6",
              "width": 0.5
             },
             "pattern": {
              "fillmode": "overlay",
              "size": 10,
              "solidity": 0.2
             }
            },
            "type": "barpolar"
           }
          ],
          "carpet": [
           {
            "aaxis": {
             "endlinecolor": "#2a3f5f",
             "gridcolor": "white",
             "linecolor": "white",
             "minorgridcolor": "white",
             "startlinecolor": "#2a3f5f"
            },
            "baxis": {
             "endlinecolor": "#2a3f5f",
             "gridcolor": "white",
             "linecolor": "white",
             "minorgridcolor": "white",
             "startlinecolor": "#2a3f5f"
            },
            "type": "carpet"
           }
          ],
          "choropleth": [
           {
            "colorbar": {
             "outlinewidth": 0,
             "ticks": ""
            },
            "type": "choropleth"
           }
          ],
          "contour": [
           {
            "colorbar": {
             "outlinewidth": 0,
             "ticks": ""
            },
            "colorscale": [
             [
              0,
              "#0d0887"
             ],
             [
              0.1111111111111111,
              "#46039f"
             ],
             [
              0.2222222222222222,
              "#7201a8"
             ],
             [
              0.3333333333333333,
              "#9c179e"
             ],
             [
              0.4444444444444444,
              "#bd3786"
             ],
             [
              0.5555555555555556,
              "#d8576b"
             ],
             [
              0.6666666666666666,
              "#ed7953"
             ],
             [
              0.7777777777777778,
              "#fb9f3a"
             ],
             [
              0.8888888888888888,
              "#fdca26"
             ],
             [
              1,
              "#f0f921"
             ]
            ],
            "type": "contour"
           }
          ],
          "contourcarpet": [
           {
            "colorbar": {
             "outlinewidth": 0,
             "ticks": ""
            },
            "type": "contourcarpet"
           }
          ],
          "heatmap": [
           {
            "colorbar": {
             "outlinewidth": 0,
             "ticks": ""
            },
            "colorscale": [
             [
              0,
              "#0d0887"
             ],
             [
              0.1111111111111111,
              "#46039f"
             ],
             [
              0.2222222222222222,
              "#7201a8"
             ],
             [
              0.3333333333333333,
              "#9c179e"
             ],
             [
              0.4444444444444444,
              "#bd3786"
             ],
             [
              0.5555555555555556,
              "#d8576b"
             ],
             [
              0.6666666666666666,
              "#ed7953"
             ],
             [
              0.7777777777777778,
              "#fb9f3a"
             ],
             [
              0.8888888888888888,
              "#fdca26"
             ],
             [
              1,
              "#f0f921"
             ]
            ],
            "type": "heatmap"
           }
          ],
          "heatmapgl": [
           {
            "colorbar": {
             "outlinewidth": 0,
             "ticks": ""
            },
            "colorscale": [
             [
              0,
              "#0d0887"
             ],
             [
              0.1111111111111111,
              "#46039f"
             ],
             [
              0.2222222222222222,
              "#7201a8"
             ],
             [
              0.3333333333333333,
              "#9c179e"
             ],
             [
              0.4444444444444444,
              "#bd3786"
             ],
             [
              0.5555555555555556,
              "#d8576b"
             ],
             [
              0.6666666666666666,
              "#ed7953"
             ],
             [
              0.7777777777777778,
              "#fb9f3a"
             ],
             [
              0.8888888888888888,
              "#fdca26"
             ],
             [
              1,
              "#f0f921"
             ]
            ],
            "type": "heatmapgl"
           }
          ],
          "histogram": [
           {
            "marker": {
             "pattern": {
              "fillmode": "overlay",
              "size": 10,
              "solidity": 0.2
             }
            },
            "type": "histogram"
           }
          ],
          "histogram2d": [
           {
            "colorbar": {
             "outlinewidth": 0,
             "ticks": ""
            },
            "colorscale": [
             [
              0,
              "#0d0887"
             ],
             [
              0.1111111111111111,
              "#46039f"
             ],
             [
              0.2222222222222222,
              "#7201a8"
             ],
             [
              0.3333333333333333,
              "#9c179e"
             ],
             [
              0.4444444444444444,
              "#bd3786"
             ],
             [
              0.5555555555555556,
              "#d8576b"
             ],
             [
              0.6666666666666666,
              "#ed7953"
             ],
             [
              0.7777777777777778,
              "#fb9f3a"
             ],
             [
              0.8888888888888888,
              "#fdca26"
             ],
             [
              1,
              "#f0f921"
             ]
            ],
            "type": "histogram2d"
           }
          ],
          "histogram2dcontour": [
           {
            "colorbar": {
             "outlinewidth": 0,
             "ticks": ""
            },
            "colorscale": [
             [
              0,
              "#0d0887"
             ],
             [
              0.1111111111111111,
              "#46039f"
             ],
             [
              0.2222222222222222,
              "#7201a8"
             ],
             [
              0.3333333333333333,
              "#9c179e"
             ],
             [
              0.4444444444444444,
              "#bd3786"
             ],
             [
              0.5555555555555556,
              "#d8576b"
             ],
             [
              0.6666666666666666,
              "#ed7953"
             ],
             [
              0.7777777777777778,
              "#fb9f3a"
             ],
             [
              0.8888888888888888,
              "#fdca26"
             ],
             [
              1,
              "#f0f921"
             ]
            ],
            "type": "histogram2dcontour"
           }
          ],
          "mesh3d": [
           {
            "colorbar": {
             "outlinewidth": 0,
             "ticks": ""
            },
            "type": "mesh3d"
           }
          ],
          "parcoords": [
           {
            "line": {
             "colorbar": {
              "outlinewidth": 0,
              "ticks": ""
             }
            },
            "type": "parcoords"
           }
          ],
          "pie": [
           {
            "automargin": true,
            "type": "pie"
           }
          ],
          "scatter": [
           {
            "marker": {
             "colorbar": {
              "outlinewidth": 0,
              "ticks": ""
             }
            },
            "type": "scatter"
           }
          ],
          "scatter3d": [
           {
            "line": {
             "colorbar": {
              "outlinewidth": 0,
              "ticks": ""
             }
            },
            "marker": {
             "colorbar": {
              "outlinewidth": 0,
              "ticks": ""
             }
            },
            "type": "scatter3d"
           }
          ],
          "scattercarpet": [
           {
            "marker": {
             "colorbar": {
              "outlinewidth": 0,
              "ticks": ""
             }
            },
            "type": "scattercarpet"
           }
          ],
          "scattergeo": [
           {
            "marker": {
             "colorbar": {
              "outlinewidth": 0,
              "ticks": ""
             }
            },
            "type": "scattergeo"
           }
          ],
          "scattergl": [
           {
            "marker": {
             "colorbar": {
              "outlinewidth": 0,
              "ticks": ""
             }
            },
            "type": "scattergl"
           }
          ],
          "scattermapbox": [
           {
            "marker": {
             "colorbar": {
              "outlinewidth": 0,
              "ticks": ""
             }
            },
            "type": "scattermapbox"
           }
          ],
          "scatterpolar": [
           {
            "marker": {
             "colorbar": {
              "outlinewidth": 0,
              "ticks": ""
             }
            },
            "type": "scatterpolar"
           }
          ],
          "scatterpolargl": [
           {
            "marker": {
             "colorbar": {
              "outlinewidth": 0,
              "ticks": ""
             }
            },
            "type": "scatterpolargl"
           }
          ],
          "scatterternary": [
           {
            "marker": {
             "colorbar": {
              "outlinewidth": 0,
              "ticks": ""
             }
            },
            "type": "scatterternary"
           }
          ],
          "surface": [
           {
            "colorbar": {
             "outlinewidth": 0,
             "ticks": ""
            },
            "colorscale": [
             [
              0,
              "#0d0887"
             ],
             [
              0.1111111111111111,
              "#46039f"
             ],
             [
              0.2222222222222222,
              "#7201a8"
             ],
             [
              0.3333333333333333,
              "#9c179e"
             ],
             [
              0.4444444444444444,
              "#bd3786"
             ],
             [
              0.5555555555555556,
              "#d8576b"
             ],
             [
              0.6666666666666666,
              "#ed7953"
             ],
             [
              0.7777777777777778,
              "#fb9f3a"
             ],
             [
              0.8888888888888888,
              "#fdca26"
             ],
             [
              1,
              "#f0f921"
             ]
            ],
            "type": "surface"
           }
          ],
          "table": [
           {
            "cells": {
             "fill": {
              "color": "#EBF0F8"
             },
             "line": {
              "color": "white"
             }
            },
            "header": {
             "fill": {
              "color": "#C8D4E3"
             },
             "line": {
              "color": "white"
             }
            },
            "type": "table"
           }
          ]
         },
         "layout": {
          "annotationdefaults": {
           "arrowcolor": "#2a3f5f",
           "arrowhead": 0,
           "arrowwidth": 1
          },
          "autotypenumbers": "strict",
          "coloraxis": {
           "colorbar": {
            "outlinewidth": 0,
            "ticks": ""
           }
          },
          "colorscale": {
           "diverging": [
            [
             0,
             "#8e0152"
            ],
            [
             0.1,
             "#c51b7d"
            ],
            [
             0.2,
             "#de77ae"
            ],
            [
             0.3,
             "#f1b6da"
            ],
            [
             0.4,
             "#fde0ef"
            ],
            [
             0.5,
             "#f7f7f7"
            ],
            [
             0.6,
             "#e6f5d0"
            ],
            [
             0.7,
             "#b8e186"
            ],
            [
             0.8,
             "#7fbc41"
            ],
            [
             0.9,
             "#4d9221"
            ],
            [
             1,
             "#276419"
            ]
           ],
           "sequential": [
            [
             0,
             "#0d0887"
            ],
            [
             0.1111111111111111,
             "#46039f"
            ],
            [
             0.2222222222222222,
             "#7201a8"
            ],
            [
             0.3333333333333333,
             "#9c179e"
            ],
            [
             0.4444444444444444,
             "#bd3786"
            ],
            [
             0.5555555555555556,
             "#d8576b"
            ],
            [
             0.6666666666666666,
             "#ed7953"
            ],
            [
             0.7777777777777778,
             "#fb9f3a"
            ],
            [
             0.8888888888888888,
             "#fdca26"
            ],
            [
             1,
             "#f0f921"
            ]
           ],
           "sequentialminus": [
            [
             0,
             "#0d0887"
            ],
            [
             0.1111111111111111,
             "#46039f"
            ],
            [
             0.2222222222222222,
             "#7201a8"
            ],
            [
             0.3333333333333333,
             "#9c179e"
            ],
            [
             0.4444444444444444,
             "#bd3786"
            ],
            [
             0.5555555555555556,
             "#d8576b"
            ],
            [
             0.6666666666666666,
             "#ed7953"
            ],
            [
             0.7777777777777778,
             "#fb9f3a"
            ],
            [
             0.8888888888888888,
             "#fdca26"
            ],
            [
             1,
             "#f0f921"
            ]
           ]
          },
          "colorway": [
           "#636efa",
           "#EF553B",
           "#00cc96",
           "#ab63fa",
           "#FFA15A",
           "#19d3f3",
           "#FF6692",
           "#B6E880",
           "#FF97FF",
           "#FECB52"
          ],
          "font": {
           "color": "#2a3f5f"
          },
          "geo": {
           "bgcolor": "white",
           "lakecolor": "white",
           "landcolor": "#E5ECF6",
           "showlakes": true,
           "showland": true,
           "subunitcolor": "white"
          },
          "hoverlabel": {
           "align": "left"
          },
          "hovermode": "closest",
          "mapbox": {
           "style": "light"
          },
          "paper_bgcolor": "white",
          "plot_bgcolor": "#E5ECF6",
          "polar": {
           "angularaxis": {
            "gridcolor": "white",
            "linecolor": "white",
            "ticks": ""
           },
           "bgcolor": "#E5ECF6",
           "radialaxis": {
            "gridcolor": "white",
            "linecolor": "white",
            "ticks": ""
           }
          },
          "scene": {
           "xaxis": {
            "backgroundcolor": "#E5ECF6",
            "gridcolor": "white",
            "gridwidth": 2,
            "linecolor": "white",
            "showbackground": true,
            "ticks": "",
            "zerolinecolor": "white"
           },
           "yaxis": {
            "backgroundcolor": "#E5ECF6",
            "gridcolor": "white",
            "gridwidth": 2,
            "linecolor": "white",
            "showbackground": true,
            "ticks": "",
            "zerolinecolor": "white"
           },
           "zaxis": {
            "backgroundcolor": "#E5ECF6",
            "gridcolor": "white",
            "gridwidth": 2,
            "linecolor": "white",
            "showbackground": true,
            "ticks": "",
            "zerolinecolor": "white"
           }
          },
          "shapedefaults": {
           "line": {
            "color": "#2a3f5f"
           }
          },
          "ternary": {
           "aaxis": {
            "gridcolor": "white",
            "linecolor": "white",
            "ticks": ""
           },
           "baxis": {
            "gridcolor": "white",
            "linecolor": "white",
            "ticks": ""
           },
           "bgcolor": "#E5ECF6",
           "caxis": {
            "gridcolor": "white",
            "linecolor": "white",
            "ticks": ""
           }
          },
          "title": {
           "x": 0.05
          },
          "xaxis": {
           "automargin": true,
           "gridcolor": "white",
           "linecolor": "white",
           "ticks": "",
           "title": {
            "standoff": 15
           },
           "zerolinecolor": "white",
           "zerolinewidth": 2
          },
          "yaxis": {
           "automargin": true,
           "gridcolor": "white",
           "linecolor": "white",
           "ticks": "",
           "title": {
            "standoff": 15
           },
           "zerolinecolor": "white",
           "zerolinewidth": 2
          }
         }
        }
       }
      }
     },
     "metadata": {},
     "output_type": "display_data"
    }
   ],
   "source": [
    "# y = np.array([e[0] for e in counts])\n",
    "f = go.Figure()\n",
    "f.add_trace(go.Scatter(x=x/34555, y=counts, mode='markers+lines'))\n",
    "f.show()"
   ]
  },
  {
   "cell_type": "markdown",
   "metadata": {},
   "source": [
    "# Local Scan"
   ]
  },
  {
   "cell_type": "code",
   "execution_count": 40,
   "metadata": {},
   "outputs": [
    {
     "name": "stdout",
     "output_type": "stream",
     "text": [
      "Start time : 25.04.25_19.12.43\n",
      "Estimated time :  4 min\n",
      "Estimated finish time : 25.04.25_19.17.10\n",
      "\n",
      "======================================\n",
      "\n",
      "Moving to position 9.929 mm...\n",
      "Current position: 9.929 mm\n",
      "Performing coincidence counting...\n",
      "Time remaining:    1 s\n",
      "counts:  [192]\n",
      "\n",
      "======================================\n",
      "\n",
      "Moving to position 9.944 mm...\n",
      "Current position: 9.944 mm\n",
      "Performing coincidence counting...\n",
      "Time remaining:    1 s\n",
      "counts:  [160]\n",
      "\n",
      "======================================\n",
      "\n",
      "Moving to position 9.959 mm...\n",
      "Current position: 9.959 mm\n",
      "Performing coincidence counting...\n",
      "Time remaining:    1 s\n",
      "counts:  [198]\n",
      "\n",
      "======================================\n",
      "\n",
      "Moving to position 9.974 mm...\n",
      "Current position: 9.974 mm\n",
      "Performing coincidence counting...\n",
      "Time remaining:    1 s\n",
      "counts:  [171]\n",
      "\n",
      "======================================\n",
      "\n",
      "Moving to position 9.989 mm...\n",
      "Current position: 9.989 mm\n",
      "Performing coincidence counting...\n",
      "Time remaining:    1 s\n",
      "counts:  [187]\n",
      "\n",
      "======================================\n",
      "\n",
      "Moving to position 10.004 mm...\n",
      "Current position: 10.004 mm\n",
      "Performing coincidence counting...\n",
      "Time remaining:    1 s\n",
      "counts:  [208]\n",
      "\n",
      "======================================\n",
      "\n",
      "Moving to position 10.019 mm...\n",
      "Current position: 10.019 mm\n",
      "Performing coincidence counting...\n",
      "Time remaining:    1 s\n",
      "counts:  [184]\n",
      "\n",
      "======================================\n",
      "\n",
      "Moving to position 10.034 mm...\n",
      "Current position: 10.034 mm\n",
      "Performing coincidence counting...\n",
      "Time remaining:    1 s\n",
      "counts:  [193]\n",
      "\n",
      "======================================\n",
      "\n",
      "Moving to position 10.049 mm...\n",
      "Current position: 10.049 mm\n",
      "Performing coincidence counting...\n",
      "Time remaining:    1 s\n",
      "counts:  [166]\n",
      "\n",
      "======================================\n",
      "\n",
      "Moving to position 10.064 mm...\n",
      "Current position: 10.064 mm\n",
      "Performing coincidence counting...\n",
      "Time remaining:    1 s\n",
      "counts:  [185]\n",
      "\n",
      "======================================\n",
      "\n",
      "Moving to position 10.079 mm...\n",
      "Current position: 10.079 mm\n",
      "Performing coincidence counting...\n",
      "Time remaining:    1 s\n",
      "counts:  [172]\n",
      "\n",
      "======================================\n",
      "\n",
      "Moving to position 10.094 mm...\n",
      "Current position: 10.094 mm\n",
      "Performing coincidence counting...\n",
      "Time remaining:    1 s\n",
      "counts:  [155]\n",
      "\n",
      "======================================\n",
      "\n",
      "Moving to position 10.109 mm...\n",
      "Current position: 10.109 mm\n",
      "Performing coincidence counting...\n",
      "Time remaining:    1 s\n",
      "counts:  [131]\n",
      "\n",
      "======================================\n",
      "\n",
      "Moving to position 10.124 mm...\n",
      "Current position: 10.124 mm\n",
      "Performing coincidence counting...\n",
      "Time remaining:    1 s\n",
      "counts:  [122]\n",
      "\n",
      "======================================\n",
      "\n",
      "Moving to position 10.139 mm...\n",
      "Current position: 10.139 mm\n",
      "Performing coincidence counting...\n",
      "Time remaining:    1 s\n",
      "counts:  [125]\n",
      "\n",
      "======================================\n",
      "\n",
      "Moving to position 10.154 mm...\n",
      "Current position: 10.154 mm\n",
      "Performing coincidence counting...\n",
      "Time remaining:    1 s\n",
      "counts:  [153]\n",
      "\n",
      "======================================\n",
      "\n",
      "Moving to position 10.169 mm...\n",
      "Current position: 10.169 mm\n",
      "Performing coincidence counting...\n",
      "Time remaining:    1 s\n",
      "counts:  [174]\n",
      "\n",
      "======================================\n",
      "\n",
      "Moving to position 10.184 mm...\n",
      "Current position: 10.184 mm\n",
      "Performing coincidence counting...\n",
      "Time remaining:    1 s\n",
      "counts:  [187]\n",
      "\n",
      "======================================\n",
      "\n",
      "Moving to position 10.199 mm...\n",
      "Current position: 10.199 mm\n",
      "Performing coincidence counting...\n",
      "Time remaining:    1 s\n",
      "counts:  [193]\n",
      "\n",
      "======================================\n",
      "\n",
      "Moving to position 10.214 mm...\n",
      "Current position: 10.214 mm\n",
      "Performing coincidence counting...\n",
      "Time remaining:    1 s\n",
      "counts:  [174]\n",
      "\n",
      "======================================\n",
      "\n",
      "Moving to position 10.229 mm...\n",
      "Current position: 10.229 mm\n",
      "Performing coincidence counting...\n",
      "Time remaining:    1 s\n",
      "counts:  [187]\n",
      "\n",
      "======================================\n",
      "\n",
      "Moving to position 10.244 mm...\n",
      "Current position: 10.244 mm\n",
      "Performing coincidence counting...\n",
      "Time remaining:    1 s\n",
      "counts:  [217]\n",
      "\n",
      "======================================\n",
      "\n",
      "Moving to position 10.259 mm...\n",
      "Current position: 10.259 mm\n",
      "Performing coincidence counting...\n",
      "Time remaining:    1 s\n",
      "counts:  [213]\n",
      "\n",
      "======================================\n",
      "\n",
      "Moving to position 10.274 mm...\n",
      "Current position: 10.274 mm\n",
      "Performing coincidence counting...\n",
      "Time remaining:    1 s\n",
      "counts:  [223]\n",
      "\n",
      "======================================\n",
      "\n",
      "Moving to position 10.289 mm...\n",
      "Current position: 10.289 mm\n",
      "Performing coincidence counting...\n",
      "Time remaining:    1 s\n",
      "counts:  [212]\n",
      "\n",
      "======================================\n",
      "\n",
      "Moving to position 10.304 mm...\n",
      "Current position: 10.304 mm\n",
      "Performing coincidence counting...\n",
      "Time remaining:    1 s\n",
      "counts:  [177]\n",
      "\n",
      "======================================\n",
      "\n",
      "Moving to position 10.319 mm...\n",
      "Current position: 10.318 mm\n",
      "Performing coincidence counting...\n",
      "Time remaining:    1 s\n",
      "counts:  [195]\n",
      "Finished!\n"
     ]
    },
    {
     "data": {
      "image/png": "[encoded data removed]",
      "text/plain": [
       "<Figure size 432x288 with 1 Axes>"
      ]
     },
     "metadata": {
      "needs_background": "light"
     },
     "output_type": "display_data"
    }
   ],
   "source": [
    "# 2) init tagger\n",
    "\n",
    "tagger = createTimeTagger()\n",
    "for j in range(1, 17):\n",
    "    tagger.setTriggerLevel(j, 1.0)\n",
    "\n",
    "tagger.setInputDelay(2, -3750)\n",
    "tagger.setInputDelay(3, -4775)\n",
    "tagger.setInputDelay(4, -10335)\n",
    "tagger.setInputDelay(5, -10900)\n",
    "\n",
    "coin = Coincidence(\n",
    "                tagger, [1, 2, 4, 5], coincidenceWindow=5000, timestamp=CoincidenceTimestamp.Average\n",
    "                )\n",
    "\n",
    "countrate = Countrate(tagger=tagger, channels=coin.getChannels())\n",
    "\n",
    "# 3) measure\n",
    "\n",
    "t = datetime.datetime.now()\n",
    "start_time = t.strftime(\"%y.%m.%d_%H.%M.%S\")\n",
    "filename = f\"data_Haifei/vis_{start_time}.txt\"\n",
    "f = open(filename, \"w\")\n",
    "\n",
    "step = 0.015\n",
    "sec = 10\n",
    "counts = []\n",
    "\n",
    "center = 350000 # 118870\n",
    "ran = round(0.2 * 34555)\n",
    "range_max = center + ran\n",
    "range_min = center - ran\n",
    "\n",
    "estimated_time = ( sec * (range_max - range_min) / (step * 34555) ) / 60\n",
    "\n",
    "estimated_finish_time = (t + datetime.timedelta(minutes=estimated_time)).strftime(\"%y.%m.%d_%H.%M.%S\")\n",
    "\n",
    "print(f\"Start time : {start_time}\")\n",
    "print(f\"Estimated time : {estimated_time : .0f} min\")\n",
    "print(f\"Estimated finish time : {estimated_finish_time}\")\n",
    "\n",
    "try: \n",
    "    for pos in range(range_min, range_max, int(step*34555)):\n",
    "        print(\"\\n======================================\\n\")\n",
    "        print(f\"Moving to position {pos/34555:.3f} mm...\")\n",
    "        stage.move_to(pos)\n",
    "        stage.wait_for_stop()\n",
    "        cur_pos = stage.get_position()\n",
    "        print(f\"Current position: {cur_pos/34555:.3f} mm\")\n",
    "        print(\"Performing coincidence counting...\")\n",
    "        countrate.startFor(int(sec*1e12))\n",
    "        for i in range(0, sec):\n",
    "            sys.stdout.write(\"\\r\")\n",
    "            sys.stdout.write(f\"Time remaining: {(sec - i):4d} s\")\n",
    "            sys.stdout.flush()\n",
    "            time.sleep(1)\n",
    "        print(\"\")\n",
    "        countrate.waitUntilFinished()\n",
    "        count = countrate.getCountsTotal()\n",
    "        print(\"counts: \", count)\n",
    "        pos_count = [cur_pos] + [int(num) for num in count]\n",
    "        counts.append(count)\n",
    "\n",
    "        f.write(\" \".join(map(str, pos_count)))\n",
    "        f.write(\"\\n\")\n",
    "        f.flush()\n",
    "finally:\n",
    "    f.close()\n",
    "    freeTimeTagger(tagger=tagger)\n",
    "    print(\"Finished!\")\n",
    "\n",
    "\n",
    "plt.plot(counts, \"o\")\n",
    "plt.savefig(filename[:-4] + '.jpg')\n",
    "plt.show()"
   ]
  },
  {
   "cell_type": "markdown",
   "metadata": {},
   "source": [
    "# DDDD DDDA Together"
   ]
  },
  {
   "cell_type": "code",
   "execution_count": 43,
   "metadata": {},
   "outputs": [
    {
     "name": "stdout",
     "output_type": "stream",
     "text": [
      "Start time : 25.04.25_19.52.20\n",
      "Estimated time :  800 min\n",
      "Estimated finish time : 25.04.26_09.12.24\n",
      "\n",
      "======================================\n",
      "\n",
      "Moving to position 10.009 mm...\n",
      "Current position: 10.009 mm\n",
      "Performing coincidence counting...\n",
      "Time remaining:    1 s\n",
      "counts:  [303 387]\n",
      "\n",
      "======================================\n",
      "\n",
      "Moving to position 10.019 mm...\n",
      "Current position: 10.019 mm\n",
      "Performing coincidence counting...\n",
      "Time remaining:    1 s\n",
      "counts:  [372 393]\n",
      "\n",
      "======================================\n",
      "\n",
      "Moving to position 10.029 mm...\n",
      "Current position: 10.029 mm\n",
      "Performing coincidence counting...\n",
      "Time remaining:    1 s\n",
      "counts:  [364 378]\n",
      "\n",
      "======================================\n",
      "\n",
      "Moving to position 10.039 mm...\n",
      "Current position: 10.039 mm\n",
      "Performing coincidence counting...\n",
      "Time remaining:    1 s\n",
      "counts:  [387 383]\n",
      "\n",
      "======================================\n",
      "\n",
      "Moving to position 10.049 mm...\n",
      "Current position: 10.049 mm\n",
      "Performing coincidence counting...\n",
      "Time remaining:    1 s\n",
      "counts:  [381 316]\n",
      "\n",
      "======================================\n",
      "\n",
      "Moving to position 10.059 mm...\n",
      "Current position: 10.059 mm\n",
      "Performing coincidence counting...\n",
      "Time remaining:    1 s\n",
      "counts:  [365 397]\n",
      "\n",
      "======================================\n",
      "\n",
      "Moving to position 10.069 mm...\n",
      "Current position: 10.069 mm\n",
      "Performing coincidence counting...\n",
      "Time remaining:    1 s\n",
      "counts:  [361 397]\n",
      "\n",
      "======================================\n",
      "\n",
      "Moving to position 10.079 mm...\n",
      "Current position: 10.079 mm\n",
      "Performing coincidence counting...\n",
      "Time remaining:    1 s\n",
      "counts:  [352 347]\n",
      "\n",
      "======================================\n",
      "\n",
      "Moving to position 10.089 mm...\n",
      "Current position: 10.089 mm\n",
      "Performing coincidence counting...\n",
      "Time remaining:    1 s\n",
      "counts:  [393 327]\n",
      "\n",
      "======================================\n",
      "\n",
      "Moving to position 10.099 mm...\n",
      "Current position: 10.099 mm\n",
      "Performing coincidence counting...\n",
      "Time remaining:    1 s\n",
      "counts:  [359 311]\n",
      "\n",
      "======================================\n",
      "\n",
      "Moving to position 10.109 mm...\n",
      "Current position: 10.109 mm\n",
      "Performing coincidence counting...\n",
      "Time remaining:    1 s\n",
      "counts:  [379 320]\n",
      "\n",
      "======================================\n",
      "\n",
      "Moving to position 10.119 mm...\n",
      "Current position: 10.119 mm\n",
      "Performing coincidence counting...\n",
      "Time remaining:    1 s\n",
      "counts:  [398 292]\n",
      "\n",
      "======================================\n",
      "\n",
      "Moving to position 10.129 mm...\n",
      "Current position: 10.129 mm\n",
      "Performing coincidence counting...\n",
      "Time remaining:    1 s\n",
      "counts:  [364 284]\n",
      "\n",
      "======================================\n",
      "\n",
      "Moving to position 10.139 mm...\n",
      "Current position: 10.139 mm\n",
      "Performing coincidence counting...\n",
      "Time remaining:    1 s\n",
      "counts:  [364 316]\n",
      "\n",
      "======================================\n",
      "\n",
      "Moving to position 10.149 mm...\n",
      "Current position: 10.149 mm\n",
      "Performing coincidence counting...\n",
      "Time remaining:    1 s\n",
      "counts:  [378 323]\n",
      "\n",
      "======================================\n",
      "\n",
      "Moving to position 10.159 mm...\n",
      "Current position: 10.158 mm\n",
      "Performing coincidence counting...\n",
      "Time remaining:    1 s\n",
      "counts:  [436 319]\n",
      "\n",
      "======================================\n",
      "\n",
      "Moving to position 10.169 mm...\n",
      "Current position: 10.169 mm\n",
      "Performing coincidence counting...\n",
      "Time remaining:    1 s\n",
      "counts:  [406 336]\n",
      "\n",
      "======================================\n",
      "\n",
      "Moving to position 10.178 mm...\n",
      "Current position: 10.178 mm\n",
      "Performing coincidence counting...\n",
      "Time remaining:    1 s\n",
      "counts:  [361 308]\n",
      "\n",
      "======================================\n",
      "\n",
      "Moving to position 10.188 mm...\n",
      "Current position: 10.188 mm\n",
      "Performing coincidence counting...\n",
      "Time remaining:    1 s\n",
      "counts:  [368 367]\n",
      "\n",
      "======================================\n",
      "\n",
      "Moving to position 10.198 mm...\n",
      "Current position: 10.198 mm\n",
      "Performing coincidence counting...\n",
      "Time remaining:    1 s\n",
      "counts:  [344 335]\n",
      "\n",
      "======================================\n",
      "\n",
      "Moving to position 10.208 mm...\n",
      "Current position: 10.208 mm\n",
      "Performing coincidence counting...\n",
      "Time remaining:    1 s\n",
      "counts:  [295 346]\n",
      "\n",
      "======================================\n",
      "\n",
      "Moving to position 10.218 mm...\n",
      "Current position: 10.218 mm\n",
      "Performing coincidence counting...\n",
      "Time remaining:    1 s\n",
      "counts:  [291 351]\n",
      "\n",
      "======================================\n",
      "\n",
      "Moving to position 10.228 mm...\n",
      "Current position: 10.228 mm\n",
      "Performing coincidence counting...\n",
      "Time remaining:    1 s\n",
      "counts:  [340 330]\n",
      "\n",
      "======================================\n",
      "\n",
      "Moving to position 10.238 mm...\n",
      "Current position: 10.238 mm\n",
      "Performing coincidence counting...\n",
      "Time remaining:    1 s\n",
      "counts:  [322 325]\n",
      "\n",
      "======================================\n",
      "\n",
      "Moving to position 10.248 mm...\n",
      "Current position: 10.248 mm\n",
      "Performing coincidence counting...\n",
      "Time remaining:    1 s\n",
      "counts:  [294 374]\n",
      "Finished\n"
     ]
    },
    {
     "data": {
      "image/png": "[encoded data removed]",
      "text/plain": [
       "<Figure size 432x288 with 1 Axes>"
      ]
     },
     "metadata": {
      "needs_background": "light"
     },
     "output_type": "display_data"
    }
   ],
   "source": [
    "# 2) init tagger\n",
    "\n",
    "tagger = createTimeTagger()\n",
    "for j in range(1, 17):\n",
    "    tagger.setTriggerLevel(j, 1.0)\n",
    "\n",
    "tagger.setInputDelay(2, -3750)\n",
    "tagger.setInputDelay(3, -4775)\n",
    "tagger.setInputDelay(4, -10335)\n",
    "tagger.setInputDelay(5, -10900)\n",
    "\n",
    "coin_DDDD = Coincidence(\n",
    "                tagger, [1, 2, 3, 4], coincidenceWindow=5000, timestamp=CoincidenceTimestamp.Average\n",
    "                )\n",
    "\n",
    "coin_DDDA = Coincidence(\n",
    "                tagger, [1, 2, 3, 5], coincidenceWindow=5000, timestamp=CoincidenceTimestamp.Average\n",
    "                )\n",
    "\n",
    "countrate = Countrate(tagger=tagger, channels=[coin_DDDD.getChannel(), coin_DDDA.getChannel()])\n",
    "\n",
    "# 3) measure\n",
    "\n",
    "t = datetime.datetime.now()\n",
    "start_time = t.strftime(\"%y.%m.%d_%H.%M.%S\")\n",
    "filename = f\"data_Haifei/vis_{start_time}.txt\"\n",
    "f = open(filename, \"w\")\n",
    "\n",
    "step = 0.01\n",
    "sec = 2000 # 600\n",
    "counts = []\n",
    "\n",
    "center = 350000 # 118870\n",
    "ran = round(0.12 * 34555)\n",
    "range_max = center + ran\n",
    "range_min = center - ran\n",
    "\n",
    "estimated_time = ( sec * (range_max - range_min) / (step * 34555) ) / 60\n",
    "\n",
    "estimated_finish_time = (t + datetime.timedelta(minutes=estimated_time)).strftime(\"%y.%m.%d_%H.%M.%S\")\n",
    "\n",
    "print(f\"Start time : {start_time}\")\n",
    "print(f\"Estimated time : {estimated_time : .0f} min\")\n",
    "print(f\"Estimated finish time : {estimated_finish_time}\")\n",
    "\n",
    "try: \n",
    "    for pos in range(range_min, range_max, int(step*34555)):\n",
    "        print(\"\\n======================================\\n\")\n",
    "        print(f\"Moving to position {pos/34555:.3f} mm...\")\n",
    "        stage.move_to(pos)\n",
    "        stage.wait_for_stop()\n",
    "        cur_pos = stage.get_position()\n",
    "        print(f\"Current position: {cur_pos/34555:.3f} mm\")\n",
    "        print(\"Performing coincidence counting...\")\n",
    "        countrate.startFor(int(sec*1e12))\n",
    "        for i in range(0, sec):\n",
    "            sys.stdout.write(\"\\r\")\n",
    "            sys.stdout.write(f\"Time remaining: {(sec - i):4d} s\")\n",
    "            sys.stdout.flush()\n",
    "            time.sleep(1)\n",
    "        print(\"\")\n",
    "        countrate.waitUntilFinished()\n",
    "        count = countrate.getCountsTotal()\n",
    "        print(\"counts: \", count)\n",
    "        pos_count = [cur_pos] + [int(num) for num in count]\n",
    "        counts.append(count)\n",
    "\n",
    "        f.write(\" \".join(map(str, pos_count)))\n",
    "        f.write(\"\\n\")\n",
    "        f.flush()\n",
    "finally:\n",
    "    f.close()\n",
    "    freeTimeTagger(tagger=tagger)\n",
    "    print(\"Finished\")\n",
    "\n",
    "\n",
    "plt.plot(counts, \"-o\")\n",
    "plt.savefig(filename[:-4] + '.jpg')\n",
    "plt.show()"
   ]
  },
  {
   "cell_type": "code",
   "execution_count": 45,
   "metadata": {},
   "outputs": [
    {
     "data": {
      "image/png": "[encoded data removed]",
      "text/plain": [
       "<Figure size 432x288 with 1 Axes>"
      ]
     },
     "metadata": {
      "needs_background": "light"
     },
     "output_type": "display_data"
    }
   ],
   "source": [
    "plt.plot(counts, \"-o\")\n",
    "plt.show()"
   ]
  },
  {
   "cell_type": "code",
   "execution_count": null,
   "metadata": {},
   "outputs": [],
   "source": []
  }
 ],
 "metadata": {
  "kernelspec": {
   "display_name": "base",
   "language": "python",
   "name": "python3"
  },
  "language_info": {
   "codemirror_mode": {
    "name": "ipython",
    "version": 3
   },
   "file_extension": ".py",
   "mimetype": "text/x-python",
   "name": "python",
   "nbconvert_exporter": "python",
   "pygments_lexer": "ipython3",
   "version": "3.9.12"
  }
 },
 "nbformat": 4,
 "nbformat_minor": 2
}
