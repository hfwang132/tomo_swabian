{
 "cells": [
  {
   "cell_type": "code",
   "execution_count": 3,
   "metadata": {},
   "outputs": [],
   "source": [
    "coin_lst = [\n",
    "    [1, 3, 5, 7, 9, 11], [2, 3, 5, 7, 9, 11], [1, 4, 5, 7, 9, 11], [2, 4, 5, 7, 9, 11], \n",
    "    [1, 3, 6, 7, 9, 11], [2, 3, 6, 7, 9, 11], [1, 4, 6, 7, 9, 11], [2, 4, 6, 7, 9, 11], \n",
    "    [1, 3, 5, 8, 9, 11], [2, 3, 5, 8, 9, 11], [1, 4, 5, 8, 9, 11], [2, 4, 5, 8, 9, 11], \n",
    "    [1, 3, 6, 8, 9, 11], [2, 3, 6, 8, 9, 11], [1, 4, 6, 8, 9, 11], [2, 4, 6, 8, 9, 11], \n",
    "    [1, 3, 5, 7, 10, 11], [2, 3, 5, 7, 10, 11], [1, 4, 5, 7, 10, 11], [2, 4, 5, 7, 10, 11], \n",
    "    [1, 3, 6, 7, 10, 11], [2, 3, 6, 7, 10, 11], [1, 4, 6, 7, 10, 11], [2, 4, 6, 7, 10, 11], \n",
    "    [1, 3, 5, 8, 10, 11], [2, 3, 5, 8, 10, 11], [1, 4, 5, 8, 10, 11], [2, 4, 5, 8, 10, 11], \n",
    "    [1, 3, 6, 8, 10, 11], [2, 3, 6, 8, 10, 11], [1, 4, 6, 8, 10, 11], [2, 4, 6, 8, 10, 11], \n",
    "    [1, 3, 5, 7, 9, 12], [2, 3, 5, 7, 9, 12], [1, 4, 5, 7, 9, 12], [2, 4, 5, 7, 9, 12], \n",
    "    [1, 3, 6, 7, 9, 12], [2, 3, 6, 7, 9, 12], [1, 4, 6, 7, 9, 12], [2, 4, 6, 7, 9, 12], \n",
    "    [1, 3, 5, 8, 9, 12], [2, 3, 5, 8, 9, 12], [1, 4, 5, 8, 9, 12], [2, 4, 5, 8, 9, 12], \n",
    "    [1, 3, 6, 8, 9, 12], [2, 3, 6, 8, 9, 12], [1, 4, 6, 8, 9, 12], [2, 4, 6, 8, 9, 12], \n",
    "    [1, 3, 5, 7, 10, 12], [2, 3, 5, 7, 10, 12], [1, 4, 5, 7, 10, 12], [2, 4, 5, 7, 10, 12], \n",
    "    [1, 3, 6, 7, 10, 12], [2, 3, 6, 7, 10, 12], [1, 4, 6, 7, 10, 12], [2, 4, 6, 7, 10, 12], \n",
    "    [1, 3, 5, 8, 10, 12], [2, 3, 5, 8, 10, 12], [1, 4, 5, 8, 10, 12], [2, 4, 5, 8, 10, 12], \n",
    "    [1, 3, 6, 8, 10, 12], [2, 3, 6, 8, 10, 12], [1, 4, 6, 8, 10, 12], [2, 4, 6, 8, 10, 12]\n",
    "]"
   ]
  },
  {
   "cell_type": "markdown",
   "metadata": {},
   "source": [
    "# TOMO"
   ]
  },
  {
   "cell_type": "code",
   "execution_count": 8,
   "metadata": {},
   "outputs": [
    {
     "name": "stdout",
     "output_type": "stream",
     "text": [
      "Estimated finish time : 2024-03-30 07:33:17\n",
      "Time remaining:    1 ss\n",
      "counts:  [204  11  22  10  94  20  22   9  29  16  10   9  17  11  14   9  23   8\n",
      "   8   7  23   8   9  11  20  11   8   8  11  10  22  22  32  20  17   7\n",
      "  12   6   8  12  24  19  10  16  11  24  20  28  25  12   9  16   6  12\n",
      "  17  24  17  45  17  94  17  27  34 214]\n"
     ]
    }
   ],
   "source": [
    "import time\n",
    "import datetime\n",
    "import sys\n",
    "import numpy as np\n",
    "from TimeTagger import Coincidences, createTimeTagger, freeTimeTagger, Countrate, CoincidenceTimestamp\n",
    "import matplotlib.pyplot as plt\n",
    "\n",
    "# init tagger\n",
    "\n",
    "tagger = createTimeTagger()\n",
    "for i in range(1, 17):\n",
    "    tagger.setTriggerLevel(i, 1.5)\n",
    "\n",
    "# set delay\n",
    "\n",
    "tagger.setInputDelay(2, -2500)\n",
    "tagger.setInputDelay(3, -7182)\n",
    "tagger.setInputDelay(4, -7977)\n",
    "tagger.setInputDelay(5, -3812)\n",
    "tagger.setInputDelay(6, -4622)\n",
    "tagger.setInputDelay(7, -5171)\n",
    "tagger.setInputDelay(8, -10000)\n",
    "tagger.setInputDelay(9, -8152)\n",
    "tagger.setInputDelay(10, -7577)\n",
    "tagger.setInputDelay(11, -4092)\n",
    "tagger.setInputDelay(12, -11953)\n",
    "\n",
    "# create channels\n",
    "\n",
    "coin = Coincidences(\n",
    "                tagger, coin_lst, coincidenceWindow=5000, timestamp=CoincidenceTimestamp.Average\n",
    "                )\n",
    "\n",
    "countrate = Countrate(tagger=tagger, channels=coin.getChannels())\n",
    "\n",
    "\n",
    "t = datetime.datetime.now()\n",
    "start_time = t.strftime(\"%y.%m.%d_%H.%M.%S\")\n",
    "filename = f\"data_Haifei/tomo_{start_time}.txt\"\n",
    "\n",
    "sec = 60 * 60 * 10\n",
    "estimated_finish_time = (t + datetime.timedelta(seconds=sec)).strftime(\"20%y-%m-%d %H:%M:%S\")\n",
    "print(f\"Estimated finish time : {estimated_finish_time}\")\n",
    "\n",
    "try:\n",
    "    countrate.startFor(int(sec*1e12))\n",
    "    for i in range(0, sec):\n",
    "        sys.stdout.write(\"\\r\")\n",
    "        sys.stdout.write(f\"Time remaining: {(sec - i):4d} s\")\n",
    "        sys.stdout.flush()\n",
    "        time.sleep(1)\n",
    "    print(\"\")\n",
    "    countrate.waitUntilFinished()\n",
    "finally:\n",
    "    count = countrate.getCountsTotal()\n",
    "    print(\"counts: \", count)\n",
    "    np.savetxt(filename, np.array(count, dtype=int), fmt=\"%d\")\n",
    "    freeTimeTagger(tagger=tagger)"
   ]
  },
  {
   "cell_type": "code",
   "execution_count": null,
   "metadata": {},
   "outputs": [],
   "source": []
  }
 ],
 "metadata": {
  "kernelspec": {
   "display_name": "base",
   "language": "python",
   "name": "python3"
  },
  "language_info": {
   "codemirror_mode": {
    "name": "ipython",
    "version": 3
   },
   "file_extension": ".py",
   "mimetype": "text/x-python",
   "name": "python",
   "nbconvert_exporter": "python",
   "pygments_lexer": "ipython3",
   "version": "3.9.12"
  }
 },
 "nbformat": 4,
 "nbformat_minor": 2
}
